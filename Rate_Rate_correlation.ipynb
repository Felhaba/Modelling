{
  "nbformat": 4,
  "nbformat_minor": 0,
  "metadata": {
    "colab": {
      "provenance": [],
      "authorship_tag": "ABX9TyN+e6v9qZXU2Ohoo23+kbaI",
      "include_colab_link": true
    },
    "kernelspec": {
      "name": "python3",
      "display_name": "Python 3"
    },
    "language_info": {
      "name": "python"
    }
  },
  "cells": [
    {
      "cell_type": "markdown",
      "metadata": {
        "id": "view-in-github",
        "colab_type": "text"
      },
      "source": [
        "<a href=\"https://colab.research.google.com/github/Felhaba/Modelling/blob/main/Rate_Rate_correlation.ipynb\" target=\"_parent\"><img src=\"https://colab.research.google.com/assets/colab-badge.svg\" alt=\"Open In Colab\"/></a>"
      ]
    },
    {
      "cell_type": "code",
      "execution_count": null,
      "metadata": {
        "id": "-lCbXCZdwc6T"
      },
      "outputs": [],
      "source": [
        "import pandas as pd\n",
        "import numpy as np"
      ]
    },
    {
      "cell_type": "code",
      "source": [
        "path = '!!!!!!!!!!!!!!!!!!!!!!' #fill it in accordingly"
      ],
      "metadata": {
        "id": "OyElxBay3W9H"
      },
      "execution_count": null,
      "outputs": []
    },
    {
      "cell_type": "markdown",
      "source": [
        "### Rate-Rate correlation"
      ],
      "metadata": {
        "id": "o8EgoKZxkApf"
      }
    },
    {
      "cell_type": "markdown",
      "source": [
        "#### Data import + glimpse"
      ],
      "metadata": {
        "id": "K-YVJJ-McD8m"
      }
    },
    {
      "cell_type": "code",
      "source": [
        "df_usd = pd.read_csv(f'{path}USD-SAR ZC Rates Time Series.xlsx', sep = ',') # pd.read_excel(f'{path}USD.csv', 'USD')\n",
        "df_2 = pd.read_csv(f'{path}USD-SAR ZC Rates Time Series.xlsx', sep = ',') # pd.read_excel(f'{path}USD.csv', 'SAR')"
      ],
      "metadata": {
        "id": "CuAiDYtZjt3l"
      },
      "execution_count": null,
      "outputs": []
    },
    {
      "cell_type": "code",
      "source": [
        "df_usd = df_usd[df_sar.columns]\n",
        "df_usd.shape"
      ],
      "metadata": {
        "colab": {
          "base_uri": "https://localhost:8080/"
        },
        "id": "MVCgRdCdk7Es",
        "outputId": "e682982e-f70b-45ae-fb16-d69e4e4ce0a6"
      },
      "execution_count": null,
      "outputs": [
        {
          "output_type": "execute_result",
          "data": {
            "text/plain": [
              "(1997, 12)"
            ]
          },
          "metadata": {},
          "execution_count": 108
        }
      ]
    },
    {
      "cell_type": "code",
      "source": [
        "df_2.shape"
      ],
      "metadata": {
        "colab": {
          "base_uri": "https://localhost:8080/"
        },
        "id": "TKpFtqbnlXki",
        "outputId": "3304d87a-44ed-4a8c-ef6e-ee92377907e6"
      },
      "execution_count": null,
      "outputs": [
        {
          "output_type": "execute_result",
          "data": {
            "text/plain": [
              "(1625, 12)"
            ]
          },
          "metadata": {},
          "execution_count": 109
        }
      ]
    },
    {
      "cell_type": "code",
      "source": [
        "df_usd = df_usd.sort_values(by=['dates']) #.head(5)"
      ],
      "metadata": {
        "id": "7mx-yl0rD9FT"
      },
      "execution_count": null,
      "outputs": []
    },
    {
      "cell_type": "code",
      "source": [
        "df_2 = df_2.sort_values(by=['dates']) #.head(5)"
      ],
      "metadata": {
        "id": "a-bk7k6lbd8r"
      },
      "execution_count": null,
      "outputs": []
    },
    {
      "cell_type": "code",
      "source": [
        "intersect_date = set(df_2['dates']).intersection(df_usd['dates']) #same dates for both TS"
      ],
      "metadata": {
        "id": "lknsg6Gdcp48"
      },
      "execution_count": null,
      "outputs": []
    },
    {
      "cell_type": "markdown",
      "source": [
        "Final result\n",
        "\n",
        "* sorted by ASC\n",
        "* only common dates included\n",
        "* only common pillars inluded"
      ],
      "metadata": {
        "id": "YdY_Nn1NfNL1"
      }
    },
    {
      "cell_type": "code",
      "source": [
        "df_usd = df_usd[df_usd['dates'].isin(intersect_date)]\n",
        "df_2 = df_2[df_2['dates'].isin(intersect_date)]"
      ],
      "metadata": {
        "id": "wbu8rpjKezFl"
      },
      "execution_count": null,
      "outputs": []
    },
    {
      "cell_type": "markdown",
      "source": [
        "#### Find the 1st differences"
      ],
      "metadata": {
        "id": "7ewNRMbGb-zb"
      }
    },
    {
      "cell_type": "markdown",
      "source": [
        "$dr = r(\\tau)_{i+1} - r(\\tau)_{i},$\n",
        "\n",
        "where $\\tau$ - pillar selected (1Y, 2Y, etc.); $i$ - date at which rates are considered (1 March 2023, 2 March 2023 etc.)"
      ],
      "metadata": {
        "id": "yK-0lAy2YF63"
      }
    },
    {
      "cell_type": "code",
      "source": [
        "df_usd_diff = df_usd[df_usd.columns[1::]].diff()"
      ],
      "metadata": {
        "id": "Wx4bkgBKEelK"
      },
      "execution_count": null,
      "outputs": []
    },
    {
      "cell_type": "code",
      "source": [
        "df_2_diff = df_2[df_2.columns[1::]].diff()"
      ],
      "metadata": {
        "id": "Pexhfl7hFYAq"
      },
      "execution_count": null,
      "outputs": []
    },
    {
      "cell_type": "code",
      "source": [
        "# np.corrcoef(df_usd_diff[df_usd_diff.columns[1]].dropna(), df_sar_diff[df_sar_diff.columns[1]].dropna())"
      ],
      "metadata": {
        "id": "NweW1HzDFkRJ"
      },
      "execution_count": null,
      "outputs": []
    },
    {
      "cell_type": "markdown",
      "source": [
        "#### Find the correlation by pillars"
      ],
      "metadata": {
        "id": "hhmRBbIdi4an"
      }
    },
    {
      "cell_type": "code",
      "source": [
        "### finding correlation\n",
        "\n",
        "r_USDSAR_SNB = []\n",
        "\n",
        "for i in range(df_usd_diff.shape[1]):\n",
        "  r = np.corrcoef(df_usd_diff[df_usd_diff.columns[i]].dropna(), df_2_diff[df_2_diff.columns[i]].dropna())\n",
        "  r_USDSAR_SNB.append(r[0, 1])"
      ],
      "metadata": {
        "id": "6RDv7q7_l4aS"
      },
      "execution_count": null,
      "outputs": []
    },
    {
      "cell_type": "markdown",
      "source": [
        "#### Result"
      ],
      "metadata": {
        "id": "lUcTOGqxwv40"
      }
    },
    {
      "cell_type": "code",
      "source": [
        "r_USDSAR_SNB"
      ],
      "metadata": {
        "colab": {
          "base_uri": "https://localhost:8080/"
        },
        "id": "DhPQMga4iism",
        "outputId": "7f0da10e-0ded-40be-c264-6293c2392d4c"
      },
      "execution_count": null,
      "outputs": [
        {
          "output_type": "execute_result",
          "data": {
            "text/plain": [
              "[0.5480809495673009,\n",
              " 0.5690725998197457,\n",
              " 0.36802621373167727,\n",
              " 0.230930042562248,\n",
              " 0.5304101843421716,\n",
              " 0.8052746828664735,\n",
              " 0.8731808004075797,\n",
              " 0.8231302586667129,\n",
              " 0.8158784305209044,\n",
              " 0.8173202758169773,\n",
              " 0.8247626268454664,\n",
              " 0.8031604914098676,\n",
              " 0.8307738833568065,\n",
              " 0.7701255369160481]"
            ]
          },
          "metadata": {},
          "execution_count": 101
        }
      ]
    },
    {
      "cell_type": "code",
      "source": [
        "r_USDSAR_MX"
      ],
      "metadata": {
        "colab": {
          "base_uri": "https://localhost:8080/"
        },
        "id": "F9sg4Vk8pboM",
        "outputId": "23ee7521-6ad1-49ef-e771-1a669b3fd190"
      },
      "execution_count": null,
      "outputs": [
        {
          "output_type": "execute_result",
          "data": {
            "text/plain": [
              "[0.876176488801264,\n",
              " 0.9210047896402197,\n",
              " 0.9606427016538817,\n",
              " 0.9856084845913309,\n",
              " 0.9862633105150359,\n",
              " 0.9786026968683793,\n",
              " 0.9766733527657449,\n",
              " 0.9668797472886607,\n",
              " 0.9588578864401457,\n",
              " 0.9557872495182732,\n",
              " 0.9527099270190458]"
            ]
          },
          "metadata": {},
          "execution_count": 103
        }
      ]
    }
  ]
}