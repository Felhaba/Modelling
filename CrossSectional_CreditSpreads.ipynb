{
  "nbformat": 4,
  "nbformat_minor": 0,
  "metadata": {
    "colab": {
      "provenance": [],
      "collapsed_sections": [
        "o3MhIejIjqZ2",
        "UNS3z1-HjtKe",
        "Ji3KJx1rknfq",
        "fWzziu5flGLF",
        "KXJIp8eilsTi"
      ],
      "authorship_tag": "ABX9TyNP9HoHoPgeK2ov9QlX0f5l",
      "include_colab_link": true
    },
    "kernelspec": {
      "name": "python3",
      "display_name": "Python 3"
    },
    "language_info": {
      "name": "python"
    }
  },
  "cells": [
    {
      "cell_type": "markdown",
      "metadata": {
        "id": "view-in-github",
        "colab_type": "text"
      },
      "source": [
        "<a href=\"https://colab.research.google.com/github/Felhaba/Modelling/blob/main/CrossSectional_CreditSpreads.ipynb\" target=\"_parent\"><img src=\"https://colab.research.google.com/assets/colab-badge.svg\" alt=\"Open In Colab\"/></a>"
      ]
    },
    {
      "cell_type": "code",
      "execution_count": null,
      "metadata": {
        "id": "zJRsfMc0gCLj",
        "colab": {
          "base_uri": "https://localhost:8080/"
        },
        "outputId": "efee2df2-6f42-4e62-919a-ff149d23ebfd"
      },
      "outputs": [
        {
          "output_type": "stream",
          "name": "stdout",
          "text": [
            "Drive already mounted at /content/drive; to attempt to forcibly remount, call drive.mount(\"/content/drive\", force_remount=True).\n"
          ]
        }
      ],
      "source": [
        "from google.colab import drive\n",
        "drive.mount('/content/drive')"
      ]
    },
    {
      "cell_type": "code",
      "source": [
        "import pandas as pd\n",
        "import numpy as np\n",
        "from sklearn.linear_model import LinearRegression"
      ],
      "metadata": {
        "id": "JW3JbqhyiaP5"
      },
      "execution_count": null,
      "outputs": []
    },
    {
      "cell_type": "code",
      "source": [
        "path = '/content/drive/MyDrive/MathFinanceConsultingNatural/Modelling/'"
      ],
      "metadata": {
        "id": "xRNGw0ziikDE"
      },
      "execution_count": null,
      "outputs": []
    },
    {
      "cell_type": "markdown",
      "source": [
        "### Importing data"
      ],
      "metadata": {
        "id": "o3MhIejIjqZ2"
      }
    },
    {
      "cell_type": "code",
      "source": [
        "input_data = pd.read_excel(f'{path}InputParameters.xlsx')\n",
        "cds_data = pd.read_excel(f'{path}CDS_Data.xlsx')"
      ],
      "metadata": {
        "id": "iYGfjPkxjGal"
      },
      "execution_count": null,
      "outputs": []
    },
    {
      "cell_type": "code",
      "source": [
        "#cds_data.head(5)\n",
        "input_data.head(5)"
      ],
      "metadata": {
        "colab": {
          "base_uri": "https://localhost:8080/",
          "height": 235
        },
        "id": "SpuoOvCjjl26",
        "outputId": "c3082e7a-36ab-48eb-f48d-b56cd3e91d8d"
      },
      "execution_count": null,
      "outputs": [
        {
          "output_type": "execute_result",
          "data": {
            "text/plain": [
              "   AAA  AA  A  BBB  BB  B  CCC  Asia  E.Eur  Europe  ...  Consumer Services  \\\n",
              "0    0   0  1    0   0  0    0     0      0       0  ...                  0   \n",
              "1    0   0  1    0   0  0    0     0      0       0  ...                  0   \n",
              "2    0   0  1    0   0  0    0     0      0       1  ...                  0   \n",
              "3    0   0  1    0   0  0    0     0      0       0  ...                  0   \n",
              "4    0   0  1    0   0  0    0     0      0       0  ...                  0   \n",
              "\n",
              "   Energy  Financials  Government  Healthcare  Industrials  Muni  Technology  \\\n",
              "0       0           0           0           0            0     0           0   \n",
              "1       0           1           0           0            0     0           0   \n",
              "2       0           1           0           0            0     0           0   \n",
              "3       0           0           0           0            0     0           0   \n",
              "4       0           0           0           0            0     0           0   \n",
              "\n",
              "   Telecommunications Services  Utilities  \n",
              "0                            0          1  \n",
              "1                            0          0  \n",
              "2                            0          0  \n",
              "3                            0          0  \n",
              "4                            0          0  \n",
              "\n",
              "[5 rows x 27 columns]"
            ],
            "text/html": [
              "\n",
              "  <div id=\"df-8cff622a-2198-40ff-ac63-cb699628654a\" class=\"colab-df-container\">\n",
              "    <div>\n",
              "<style scoped>\n",
              "    .dataframe tbody tr th:only-of-type {\n",
              "        vertical-align: middle;\n",
              "    }\n",
              "\n",
              "    .dataframe tbody tr th {\n",
              "        vertical-align: top;\n",
              "    }\n",
              "\n",
              "    .dataframe thead th {\n",
              "        text-align: right;\n",
              "    }\n",
              "</style>\n",
              "<table border=\"1\" class=\"dataframe\">\n",
              "  <thead>\n",
              "    <tr style=\"text-align: right;\">\n",
              "      <th></th>\n",
              "      <th>AAA</th>\n",
              "      <th>AA</th>\n",
              "      <th>A</th>\n",
              "      <th>BBB</th>\n",
              "      <th>BB</th>\n",
              "      <th>B</th>\n",
              "      <th>CCC</th>\n",
              "      <th>Asia</th>\n",
              "      <th>E.Eur</th>\n",
              "      <th>Europe</th>\n",
              "      <th>...</th>\n",
              "      <th>Consumer Services</th>\n",
              "      <th>Energy</th>\n",
              "      <th>Financials</th>\n",
              "      <th>Government</th>\n",
              "      <th>Healthcare</th>\n",
              "      <th>Industrials</th>\n",
              "      <th>Muni</th>\n",
              "      <th>Technology</th>\n",
              "      <th>Telecommunications Services</th>\n",
              "      <th>Utilities</th>\n",
              "    </tr>\n",
              "  </thead>\n",
              "  <tbody>\n",
              "    <tr>\n",
              "      <th>0</th>\n",
              "      <td>0</td>\n",
              "      <td>0</td>\n",
              "      <td>1</td>\n",
              "      <td>0</td>\n",
              "      <td>0</td>\n",
              "      <td>0</td>\n",
              "      <td>0</td>\n",
              "      <td>0</td>\n",
              "      <td>0</td>\n",
              "      <td>0</td>\n",
              "      <td>...</td>\n",
              "      <td>0</td>\n",
              "      <td>0</td>\n",
              "      <td>0</td>\n",
              "      <td>0</td>\n",
              "      <td>0</td>\n",
              "      <td>0</td>\n",
              "      <td>0</td>\n",
              "      <td>0</td>\n",
              "      <td>0</td>\n",
              "      <td>1</td>\n",
              "    </tr>\n",
              "    <tr>\n",
              "      <th>1</th>\n",
              "      <td>0</td>\n",
              "      <td>0</td>\n",
              "      <td>1</td>\n",
              "      <td>0</td>\n",
              "      <td>0</td>\n",
              "      <td>0</td>\n",
              "      <td>0</td>\n",
              "      <td>0</td>\n",
              "      <td>0</td>\n",
              "      <td>0</td>\n",
              "      <td>...</td>\n",
              "      <td>0</td>\n",
              "      <td>0</td>\n",
              "      <td>1</td>\n",
              "      <td>0</td>\n",
              "      <td>0</td>\n",
              "      <td>0</td>\n",
              "      <td>0</td>\n",
              "      <td>0</td>\n",
              "      <td>0</td>\n",
              "      <td>0</td>\n",
              "    </tr>\n",
              "    <tr>\n",
              "      <th>2</th>\n",
              "      <td>0</td>\n",
              "      <td>0</td>\n",
              "      <td>1</td>\n",
              "      <td>0</td>\n",
              "      <td>0</td>\n",
              "      <td>0</td>\n",
              "      <td>0</td>\n",
              "      <td>0</td>\n",
              "      <td>0</td>\n",
              "      <td>1</td>\n",
              "      <td>...</td>\n",
              "      <td>0</td>\n",
              "      <td>0</td>\n",
              "      <td>1</td>\n",
              "      <td>0</td>\n",
              "      <td>0</td>\n",
              "      <td>0</td>\n",
              "      <td>0</td>\n",
              "      <td>0</td>\n",
              "      <td>0</td>\n",
              "      <td>0</td>\n",
              "    </tr>\n",
              "    <tr>\n",
              "      <th>3</th>\n",
              "      <td>0</td>\n",
              "      <td>0</td>\n",
              "      <td>1</td>\n",
              "      <td>0</td>\n",
              "      <td>0</td>\n",
              "      <td>0</td>\n",
              "      <td>0</td>\n",
              "      <td>0</td>\n",
              "      <td>0</td>\n",
              "      <td>0</td>\n",
              "      <td>...</td>\n",
              "      <td>0</td>\n",
              "      <td>0</td>\n",
              "      <td>0</td>\n",
              "      <td>0</td>\n",
              "      <td>0</td>\n",
              "      <td>0</td>\n",
              "      <td>0</td>\n",
              "      <td>0</td>\n",
              "      <td>0</td>\n",
              "      <td>0</td>\n",
              "    </tr>\n",
              "    <tr>\n",
              "      <th>4</th>\n",
              "      <td>0</td>\n",
              "      <td>0</td>\n",
              "      <td>1</td>\n",
              "      <td>0</td>\n",
              "      <td>0</td>\n",
              "      <td>0</td>\n",
              "      <td>0</td>\n",
              "      <td>0</td>\n",
              "      <td>0</td>\n",
              "      <td>0</td>\n",
              "      <td>...</td>\n",
              "      <td>0</td>\n",
              "      <td>0</td>\n",
              "      <td>0</td>\n",
              "      <td>0</td>\n",
              "      <td>0</td>\n",
              "      <td>0</td>\n",
              "      <td>0</td>\n",
              "      <td>0</td>\n",
              "      <td>0</td>\n",
              "      <td>0</td>\n",
              "    </tr>\n",
              "  </tbody>\n",
              "</table>\n",
              "<p>5 rows × 27 columns</p>\n",
              "</div>\n",
              "    <div class=\"colab-df-buttons\">\n",
              "\n",
              "  <div class=\"colab-df-container\">\n",
              "    <button class=\"colab-df-convert\" onclick=\"convertToInteractive('df-8cff622a-2198-40ff-ac63-cb699628654a')\"\n",
              "            title=\"Convert this dataframe to an interactive table.\"\n",
              "            style=\"display:none;\">\n",
              "\n",
              "  <svg xmlns=\"http://www.w3.org/2000/svg\" height=\"24px\" viewBox=\"0 -960 960 960\">\n",
              "    <path d=\"M120-120v-720h720v720H120Zm60-500h600v-160H180v160Zm220 220h160v-160H400v160Zm0 220h160v-160H400v160ZM180-400h160v-160H180v160Zm440 0h160v-160H620v160ZM180-180h160v-160H180v160Zm440 0h160v-160H620v160Z\"/>\n",
              "  </svg>\n",
              "    </button>\n",
              "\n",
              "  <style>\n",
              "    .colab-df-container {\n",
              "      display:flex;\n",
              "      gap: 12px;\n",
              "    }\n",
              "\n",
              "    .colab-df-convert {\n",
              "      background-color: #E8F0FE;\n",
              "      border: none;\n",
              "      border-radius: 50%;\n",
              "      cursor: pointer;\n",
              "      display: none;\n",
              "      fill: #1967D2;\n",
              "      height: 32px;\n",
              "      padding: 0 0 0 0;\n",
              "      width: 32px;\n",
              "    }\n",
              "\n",
              "    .colab-df-convert:hover {\n",
              "      background-color: #E2EBFA;\n",
              "      box-shadow: 0px 1px 2px rgba(60, 64, 67, 0.3), 0px 1px 3px 1px rgba(60, 64, 67, 0.15);\n",
              "      fill: #174EA6;\n",
              "    }\n",
              "\n",
              "    .colab-df-buttons div {\n",
              "      margin-bottom: 4px;\n",
              "    }\n",
              "\n",
              "    [theme=dark] .colab-df-convert {\n",
              "      background-color: #3B4455;\n",
              "      fill: #D2E3FC;\n",
              "    }\n",
              "\n",
              "    [theme=dark] .colab-df-convert:hover {\n",
              "      background-color: #434B5C;\n",
              "      box-shadow: 0px 1px 3px 1px rgba(0, 0, 0, 0.15);\n",
              "      filter: drop-shadow(0px 1px 2px rgba(0, 0, 0, 0.3));\n",
              "      fill: #FFFFFF;\n",
              "    }\n",
              "  </style>\n",
              "\n",
              "    <script>\n",
              "      const buttonEl =\n",
              "        document.querySelector('#df-8cff622a-2198-40ff-ac63-cb699628654a button.colab-df-convert');\n",
              "      buttonEl.style.display =\n",
              "        google.colab.kernel.accessAllowed ? 'block' : 'none';\n",
              "\n",
              "      async function convertToInteractive(key) {\n",
              "        const element = document.querySelector('#df-8cff622a-2198-40ff-ac63-cb699628654a');\n",
              "        const dataTable =\n",
              "          await google.colab.kernel.invokeFunction('convertToInteractive',\n",
              "                                                    [key], {});\n",
              "        if (!dataTable) return;\n",
              "\n",
              "        const docLinkHtml = 'Like what you see? Visit the ' +\n",
              "          '<a target=\"_blank\" href=https://colab.research.google.com/notebooks/data_table.ipynb>data table notebook</a>'\n",
              "          + ' to learn more about interactive tables.';\n",
              "        element.innerHTML = '';\n",
              "        dataTable['output_type'] = 'display_data';\n",
              "        await google.colab.output.renderOutput(dataTable, element);\n",
              "        const docLink = document.createElement('div');\n",
              "        docLink.innerHTML = docLinkHtml;\n",
              "        element.appendChild(docLink);\n",
              "      }\n",
              "    </script>\n",
              "  </div>\n",
              "\n",
              "\n",
              "<div id=\"df-6a10a65b-2b68-4fb3-ba0a-7aafc714b1a4\">\n",
              "  <button class=\"colab-df-quickchart\" onclick=\"quickchart('df-6a10a65b-2b68-4fb3-ba0a-7aafc714b1a4')\"\n",
              "            title=\"Suggest charts\"\n",
              "            style=\"display:none;\">\n",
              "\n",
              "<svg xmlns=\"http://www.w3.org/2000/svg\" height=\"24px\"viewBox=\"0 0 24 24\"\n",
              "     width=\"24px\">\n",
              "    <g>\n",
              "        <path d=\"M19 3H5c-1.1 0-2 .9-2 2v14c0 1.1.9 2 2 2h14c1.1 0 2-.9 2-2V5c0-1.1-.9-2-2-2zM9 17H7v-7h2v7zm4 0h-2V7h2v10zm4 0h-2v-4h2v4z\"/>\n",
              "    </g>\n",
              "</svg>\n",
              "  </button>\n",
              "\n",
              "<style>\n",
              "  .colab-df-quickchart {\n",
              "      --bg-color: #E8F0FE;\n",
              "      --fill-color: #1967D2;\n",
              "      --hover-bg-color: #E2EBFA;\n",
              "      --hover-fill-color: #174EA6;\n",
              "      --disabled-fill-color: #AAA;\n",
              "      --disabled-bg-color: #DDD;\n",
              "  }\n",
              "\n",
              "  [theme=dark] .colab-df-quickchart {\n",
              "      --bg-color: #3B4455;\n",
              "      --fill-color: #D2E3FC;\n",
              "      --hover-bg-color: #434B5C;\n",
              "      --hover-fill-color: #FFFFFF;\n",
              "      --disabled-bg-color: #3B4455;\n",
              "      --disabled-fill-color: #666;\n",
              "  }\n",
              "\n",
              "  .colab-df-quickchart {\n",
              "    background-color: var(--bg-color);\n",
              "    border: none;\n",
              "    border-radius: 50%;\n",
              "    cursor: pointer;\n",
              "    display: none;\n",
              "    fill: var(--fill-color);\n",
              "    height: 32px;\n",
              "    padding: 0;\n",
              "    width: 32px;\n",
              "  }\n",
              "\n",
              "  .colab-df-quickchart:hover {\n",
              "    background-color: var(--hover-bg-color);\n",
              "    box-shadow: 0 1px 2px rgba(60, 64, 67, 0.3), 0 1px 3px 1px rgba(60, 64, 67, 0.15);\n",
              "    fill: var(--button-hover-fill-color);\n",
              "  }\n",
              "\n",
              "  .colab-df-quickchart-complete:disabled,\n",
              "  .colab-df-quickchart-complete:disabled:hover {\n",
              "    background-color: var(--disabled-bg-color);\n",
              "    fill: var(--disabled-fill-color);\n",
              "    box-shadow: none;\n",
              "  }\n",
              "\n",
              "  .colab-df-spinner {\n",
              "    border: 2px solid var(--fill-color);\n",
              "    border-color: transparent;\n",
              "    border-bottom-color: var(--fill-color);\n",
              "    animation:\n",
              "      spin 1s steps(1) infinite;\n",
              "  }\n",
              "\n",
              "  @keyframes spin {\n",
              "    0% {\n",
              "      border-color: transparent;\n",
              "      border-bottom-color: var(--fill-color);\n",
              "      border-left-color: var(--fill-color);\n",
              "    }\n",
              "    20% {\n",
              "      border-color: transparent;\n",
              "      border-left-color: var(--fill-color);\n",
              "      border-top-color: var(--fill-color);\n",
              "    }\n",
              "    30% {\n",
              "      border-color: transparent;\n",
              "      border-left-color: var(--fill-color);\n",
              "      border-top-color: var(--fill-color);\n",
              "      border-right-color: var(--fill-color);\n",
              "    }\n",
              "    40% {\n",
              "      border-color: transparent;\n",
              "      border-right-color: var(--fill-color);\n",
              "      border-top-color: var(--fill-color);\n",
              "    }\n",
              "    60% {\n",
              "      border-color: transparent;\n",
              "      border-right-color: var(--fill-color);\n",
              "    }\n",
              "    80% {\n",
              "      border-color: transparent;\n",
              "      border-right-color: var(--fill-color);\n",
              "      border-bottom-color: var(--fill-color);\n",
              "    }\n",
              "    90% {\n",
              "      border-color: transparent;\n",
              "      border-bottom-color: var(--fill-color);\n",
              "    }\n",
              "  }\n",
              "</style>\n",
              "\n",
              "  <script>\n",
              "    async function quickchart(key) {\n",
              "      const quickchartButtonEl =\n",
              "        document.querySelector('#' + key + ' button');\n",
              "      quickchartButtonEl.disabled = true;  // To prevent multiple clicks.\n",
              "      quickchartButtonEl.classList.add('colab-df-spinner');\n",
              "      try {\n",
              "        const charts = await google.colab.kernel.invokeFunction(\n",
              "            'suggestCharts', [key], {});\n",
              "      } catch (error) {\n",
              "        console.error('Error during call to suggestCharts:', error);\n",
              "      }\n",
              "      quickchartButtonEl.classList.remove('colab-df-spinner');\n",
              "      quickchartButtonEl.classList.add('colab-df-quickchart-complete');\n",
              "    }\n",
              "    (() => {\n",
              "      let quickchartButtonEl =\n",
              "        document.querySelector('#df-6a10a65b-2b68-4fb3-ba0a-7aafc714b1a4 button');\n",
              "      quickchartButtonEl.style.display =\n",
              "        google.colab.kernel.accessAllowed ? 'block' : 'none';\n",
              "    })();\n",
              "  </script>\n",
              "</div>\n",
              "    </div>\n",
              "  </div>\n"
            ],
            "application/vnd.google.colaboratory.intrinsic+json": {
              "type": "dataframe",
              "variable_name": "input_data"
            }
          },
          "metadata": {},
          "execution_count": 27
        }
      ]
    },
    {
      "cell_type": "markdown",
      "source": [
        "### Cross-sectional method in a nutshell"
      ],
      "metadata": {
        "id": "UNS3z1-HjtKe"
      }
    },
    {
      "cell_type": "markdown",
      "source": [
        "&ensp; Proposed by Chourdakis et al. (2013) and is based on a cross-section methodology using a multidimensional linear regression. This approach still uses a categorisation based across rating, region, and sector (and potentially other categories), but it generates the spread via a factor approach rather than a direct mapping to the names in a given bucket. A given spread is generated as the product of several factors, such as:\n",
        "* global ($M_{glob}$);\n",
        "* industry sector ($M_{ind}$);\n",
        "* region ($M_{region}$);\n",
        "* rating ($M_{rating}$);  \n",
        "* seniority ($M_{sen}$)."
      ],
      "metadata": {
        "id": "MI0TFE7crG9d"
      }
    },
    {
      "cell_type": "markdown",
      "source": [
        "&ensp; Each factor will contain several sub-categories (e.g. different credit ratings), for which\n",
        "the coefficients need to be estimated. The spread is defined by:\n",
        "$$S^{generic}_i = M_{glob} \\times M_{ind} \\times M_{region} \\times M_{rating} \\times M_{sen}$$\n",
        "or equivalently\n",
        "$$\\log(S^{generic}_i) = \\log(M_{glob}) \\times \\log(M_{ind}) \\times \\log(M_{region}) \\times \\log(M_{rating}) \\times \\log(M_{sen})$$\n"
      ],
      "metadata": {
        "id": "7jmIKUqlryPh"
      }
    },
    {
      "cell_type": "markdown",
      "source": [
        "&ensp; A key assumption behind such a methodology is that CDS spreads can be defined by a set of factors that are independent of the other components (e.g. there is a single multiplicative credit spread factor for all European credits, which is independent of the sector, rating, and seniority of those obligors)."
      ],
      "metadata": {
        "id": "0f3z4FbtsfNw"
      }
    },
    {
      "cell_type": "markdown",
      "source": [
        "### Modelling in python"
      ],
      "metadata": {
        "id": "hyaZIwc3j4ML"
      }
    },
    {
      "cell_type": "markdown",
      "source": [
        "#### 1. Adding a logarithm of CDS spread"
      ],
      "metadata": {
        "id": "Ji3KJx1rknfq"
      }
    },
    {
      "cell_type": "code",
      "source": [
        "cds_data['LOG_CDS'] = np.log(cds_data['CDS'])"
      ],
      "metadata": {
        "id": "LMoMyvB4kLD8"
      },
      "execution_count": null,
      "outputs": []
    },
    {
      "cell_type": "code",
      "source": [
        "cds_data['LOG_CDS']"
      ],
      "metadata": {
        "colab": {
          "base_uri": "https://localhost:8080/"
        },
        "id": "Mtrei0StmQU7",
        "outputId": "f87eda7f-f4f5-4413-f957-417afdc8067c"
      },
      "execution_count": null,
      "outputs": [
        {
          "output_type": "execute_result",
          "data": {
            "text/plain": [
              "0      -4.922624\n",
              "1      -5.564890\n",
              "2      -5.035953\n",
              "3      -5.610292\n",
              "4      -6.388961\n",
              "          ...   \n",
              "1067   -3.206453\n",
              "1068   -2.253224\n",
              "1069   -2.454571\n",
              "1070   -3.999762\n",
              "1071   -3.388479\n",
              "Name: LOG_CDS, Length: 1072, dtype: float64"
            ]
          },
          "metadata": {},
          "execution_count": 20
        }
      ]
    },
    {
      "cell_type": "markdown",
      "source": [
        "#### 2 Build a linear regression"
      ],
      "metadata": {
        "id": "fWzziu5flGLF"
      }
    },
    {
      "cell_type": "code",
      "source": [
        "reg = LinearRegression().fit(input_data, cds_data['LOG_CDS'])"
      ],
      "metadata": {
        "id": "T4aJtYqOle2Q"
      },
      "execution_count": null,
      "outputs": []
    },
    {
      "cell_type": "code",
      "source": [
        "reg.score(input_data, cds_data['LOG_CDS'])"
      ],
      "metadata": {
        "colab": {
          "base_uri": "https://localhost:8080/"
        },
        "id": "d23u2V8Fsw3a",
        "outputId": "c22abdaf-3f5b-4b41-9091-3b88acd767a0"
      },
      "execution_count": null,
      "outputs": [
        {
          "output_type": "execute_result",
          "data": {
            "text/plain": [
              "0.6839725333479965"
            ]
          },
          "metadata": {},
          "execution_count": 46
        }
      ]
    },
    {
      "cell_type": "markdown",
      "source": [
        "#### 3. Extract coefficients"
      ],
      "metadata": {
        "id": "KXJIp8eilsTi"
      }
    },
    {
      "cell_type": "code",
      "source": [
        "reg.coef_"
      ],
      "metadata": {
        "colab": {
          "base_uri": "https://localhost:8080/"
        },
        "id": "O2qXKMztlvq-",
        "outputId": "7f9a8275-2fc0-4b53-b2e2-a66c7662cb80"
      },
      "execution_count": null,
      "outputs": [
        {
          "output_type": "execute_result",
          "data": {
            "text/plain": [
              "array([-1.07712642e+13, -1.07712642e+13, -1.07712642e+13, -1.07712642e+13,\n",
              "       -1.07712642e+13, -1.07712642e+13, -1.07712642e+13,  1.10284969e+13,\n",
              "        1.10284969e+13,  1.10284969e+13,  1.10284969e+13,  1.10284969e+13,\n",
              "        1.10284969e+13,  1.10284969e+13,  1.10284969e+13, -2.31582128e+12,\n",
              "       -2.31582128e+12, -2.31582128e+12, -2.31582128e+12, -2.31582128e+12,\n",
              "       -2.31582128e+12, -2.31582128e+12, -2.31582128e+12, -2.31582128e+12,\n",
              "       -2.31582128e+12, -2.31582128e+12, -2.31582128e+12])"
            ]
          },
          "metadata": {},
          "execution_count": 29
        }
      ]
    },
    {
      "cell_type": "code",
      "source": [
        "intercept = reg.intercept_"
      ],
      "metadata": {
        "id": "bxkJvZVYlz_2"
      },
      "execution_count": null,
      "outputs": []
    },
    {
      "cell_type": "code",
      "source": [
        "dict_coeffs = dict(map(lambda i,j : (i,j) , input_data.columns,reg.coef_))"
      ],
      "metadata": {
        "id": "svcgTw-5pF0n"
      },
      "execution_count": null,
      "outputs": []
    },
    {
      "cell_type": "markdown",
      "source": [
        "#### Spread examples"
      ],
      "metadata": {
        "id": "pme6NzvnptwQ"
      }
    },
    {
      "cell_type": "code",
      "source": [
        "rating = input('Enter rating:')\n",
        "region = input('Enter region:')\n",
        "industry = input('Enter Industry:')\n",
        "spread = round(100*np.exp(reg.intercept_ + dict_coeffs[rating] + dict_coeffs[region] + dict_coeffs[industry]), 3)"
      ],
      "metadata": {
        "colab": {
          "base_uri": "https://localhost:8080/"
        },
        "id": "B0O5eXV0qArk",
        "outputId": "33f39828-2d75-4dbd-f01c-0856668f289d"
      },
      "execution_count": null,
      "outputs": [
        {
          "name": "stdout",
          "output_type": "stream",
          "text": [
            "Enter rating:AAA\n",
            "Enter region:N.Amer\n",
            "Enter Industry:Financials\n"
          ]
        }
      ]
    },
    {
      "cell_type": "code",
      "source": [
        "print(f'Credit spread for {rating}, {region}, {industry} corporation is {spread}%')"
      ],
      "metadata": {
        "colab": {
          "base_uri": "https://localhost:8080/"
        },
        "id": "pf4woimTpgFJ",
        "outputId": "2f1e0be8-9aeb-4fc6-8623-460524cdef09"
      },
      "execution_count": null,
      "outputs": [
        {
          "output_type": "stream",
          "name": "stdout",
          "text": [
            "Credit spread for AAA, N.Amer, Financials corporation is 0.238%\n"
          ]
        }
      ]
    }
  ]
}